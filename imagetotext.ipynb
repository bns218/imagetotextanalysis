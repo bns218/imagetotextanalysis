{
  "nbformat": 4,
  "nbformat_minor": 0,
  "metadata": {
    "colab": {
      "provenance": []
    },
    "kernelspec": {
      "name": "python3",
      "display_name": "Python 3"
    },
    "language_info": {
      "name": "python"
    }
  },
  "cells": [
    {
      "cell_type": "code",
      "source": [
        "from transformers import pipeline\n",
        "from PIL import Image\n",
        "import requests\n",
        "from io import BytesIO"
      ],
      "metadata": {
        "id": "VqeLbNxVmAZl"
      },
      "execution_count": 15,
      "outputs": []
    },
    {
      "cell_type": "code",
      "source": [
        "# Load BLIP model and processor\n",
        "image_to_text = pipeline(\"image-to-text\", model=\"Salesforce/blip-image-captioning-large\")\n",
        "\n",
        "# Load sentiment analysis model\n",
        "emotion_classifier = pipeline(\"sentiment-analysis\", model=\"cardiffnlp/twitter-roberta-base-sentiment-latest\")"
      ],
      "metadata": {
        "colab": {
          "base_uri": "https://localhost:8080/"
        },
        "id": "Zn5HyNb0mB_9",
        "outputId": "926daba1-6869-4868-f323-468c3a2dfb89"
      },
      "execution_count": 11,
      "outputs": [
        {
          "output_type": "stream",
          "name": "stderr",
          "text": [
            "/usr/local/lib/python3.10/dist-packages/huggingface_hub/utils/_token.py:89: UserWarning: \n",
            "The secret `HF_TOKEN` does not exist in your Colab secrets.\n",
            "To authenticate with the Hugging Face Hub, create a token in your settings tab (https://huggingface.co/settings/tokens), set it as secret in your Google Colab and restart your session.\n",
            "You will be able to reuse this secret in all of your notebooks.\n",
            "Please note that authentication is recommended but still optional to access public models or datasets.\n",
            "  warnings.warn(\n",
            "Some weights of the model checkpoint at cardiffnlp/twitter-roberta-base-sentiment-latest were not used when initializing RobertaForSequenceClassification: ['roberta.pooler.dense.bias', 'roberta.pooler.dense.weight']\n",
            "- This IS expected if you are initializing RobertaForSequenceClassification from the checkpoint of a model trained on another task or with another architecture (e.g. initializing a BertForSequenceClassification model from a BertForPreTraining model).\n",
            "- This IS NOT expected if you are initializing RobertaForSequenceClassification from the checkpoint of a model that you expect to be exactly identical (initializing a BertForSequenceClassification model from a BertForSequenceClassification model).\n"
          ]
        }
      ]
    },
    {
      "cell_type": "code",
      "source": [
        "def generate_description(image_url):\n",
        "    response = requests.get(image_url)\n",
        "    image = Image.open(BytesIO(response.content))\n",
        "\n",
        "    # Preprocess the image and generate description\n",
        "    description = image_to_text(image)\n",
        "    return description[0]['generated_text']\n",
        "\n",
        "def analyze_emotion(description):\n",
        "    # Analyze the emotional tone of the description\n",
        "    result = emotion_classifier(description)\n",
        "    return result[0]['label']"
      ],
      "metadata": {
        "id": "rk1mS68UmDzS"
      },
      "execution_count": 12,
      "outputs": []
    },
    {
      "cell_type": "code",
      "source": [
        "def main(image_url):\n",
        "    # Step 1: Generate description from the image\n",
        "    description = generate_description(image_url)\n",
        "    print(\"Generated Description:\", description)\n",
        "\n",
        "    # Step 2: Analyze emotional tone\n",
        "    emotion = analyze_emotion(description)\n",
        "    print(\"Emotional Tone:\", emotion)"
      ],
      "metadata": {
        "id": "PKx6SSeUmF2x"
      },
      "execution_count": 13,
      "outputs": []
    },
    {
      "cell_type": "code",
      "source": [
        "image_url = \"https://img-s-msn-com.akamaized.net/tenant/amp/entityid/AA1pblYA.img?w=768&h=432&m=6&x=180&y=257&s=256&d=256\"  # Replace with your image URL\n",
        "main(image_url)"
      ],
      "metadata": {
        "id": "fR1jwrSOBmhA",
        "colab": {
          "base_uri": "https://localhost:8080/"
        },
        "outputId": "563e49ed-302b-45fc-dc1e-81a6c06cda8e"
      },
      "execution_count": 16,
      "outputs": [
        {
          "output_type": "stream",
          "name": "stderr",
          "text": [
            "/usr/local/lib/python3.10/dist-packages/transformers/generation/utils.py:1249: UserWarning: Using the model-agnostic default `max_length` (=20) to control the generation length. We recommend setting `max_new_tokens` to control the maximum length of the generation.\n",
            "  warnings.warn(\n"
          ]
        },
        {
          "output_type": "stream",
          "name": "stdout",
          "text": [
            "Generated Description: a close up of two photos of a woman with a tennis racket\n",
            "Emotional Tone: neutral\n"
          ]
        }
      ]
    },
    {
      "cell_type": "code",
      "source": [
        "image_url = \"https://globalnews.ca/wp-content/uploads/2014/04/ny308-411_2014_025243_high3.jpg?quality=85&strip=all\"  # Replace with your image URL\n",
        "main(image_url)"
      ],
      "metadata": {
        "colab": {
          "base_uri": "https://localhost:8080/"
        },
        "id": "XpeyQppoOXf_",
        "outputId": "670414ec-ec70-49e2-8a74-14830d40dcdb"
      },
      "execution_count": 20,
      "outputs": [
        {
          "output_type": "stream",
          "name": "stdout",
          "text": [
            "Generated Description: flames and smoke billow from a truck on the side of the road\n",
            "Emotional Tone: neutral\n"
          ]
        }
      ]
    },
    {
      "cell_type": "code",
      "source": [
        "image_url = \"https://media.istockphoto.com/id/1459164433/photo/knife-as-evidence-blood-is-on-the-floor-detectives-are-in-a-crime-scene-near-dead-body.jpg?s=1024x1024&w=is&k=20&c=oEuStPlvteZzQeD2LXp7R-F1UycqJDB8dunL90ce55o=\"  # Replace with your image URL\n",
        "main(image_url)"
      ],
      "metadata": {
        "colab": {
          "base_uri": "https://localhost:8080/"
        },
        "id": "rtIdDZscXWUQ",
        "outputId": "bdf0f20c-b86f-487e-e419-3cd6bdd7b993"
      },
      "execution_count": 21,
      "outputs": [
        {
          "output_type": "stream",
          "name": "stdout",
          "text": [
            "Generated Description: arafed man in white protective suit with a tool in a building\n",
            "Emotional Tone: negative\n"
          ]
        }
      ]
    },
    {
      "cell_type": "code",
      "source": [],
      "metadata": {
        "id": "zMYS-jlDYx1Q"
      },
      "execution_count": null,
      "outputs": []
    }
  ]
}